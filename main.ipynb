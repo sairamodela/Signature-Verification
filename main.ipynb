{
 "cells": [
  {
   "cell_type": "code",
   "execution_count": 3,
   "id": "538e3148-6464-4e3f-a389-d0c8b896e353",
   "metadata": {},
   "outputs": [],
   "source": [
    "import cv2\n",
    "import os\n",
    "import pandas as pd\n",
    "from sklearn.model_selection import train_test_split\n",
    "from sklearn.svm import SVC\n",
    "from sklearn.metrics import accuracy_score\n",
    "from skimage.feature import hog\n",
    "import numpy as np\n",
    "import csv\n"
   ]
  },
  {
   "cell_type": "code",
   "execution_count": 1,
   "id": "a9de27e1-4cfc-41da-baec-df782a598008",
   "metadata": {},
   "outputs": [],
   "source": [
    "def extract_features(image_path):\n",
    "    image = cv2.imread(image_path, cv2.IMREAD_GRAYSCALE)\n",
    "    if image is None:\n",
    "        return None\n",
    "    image_resized = cv2.resize(image, (128, 128))\n",
    "    features, _ = hog(image_resized, orientations=9, pixels_per_cell=(8, 8), cells_per_block=(2, 2), block_norm='L2-Hys', visualize=True)\n",
    "    return features\n"
   ]
  },
  {
   "cell_type": "code",
   "execution_count": 5,
   "id": "10e99673-7f01-4433-8125-55787cc3db5f",
   "metadata": {},
   "outputs": [],
   "source": [
    "def extract_and_save_features(folder, label, csv_path):\n",
    "    if not os.path.exists(folder):\n",
    "        print(f\"Folder '{folder}' not found.\")\n",
    "        return False\n",
    "    \n",
    "    features_list = []\n",
    "    \n",
    "    for filename in os.listdir(folder):\n",
    "        image_path = os.path.join(folder, filename)\n",
    "        features = extract_features(image_path)\n",
    "        if features is not None:\n",
    "            features_list.append(features.tolist() + [label])\n",
    "    \n",
    "    df = pd.DataFrame(features_list)\n",
    "    if not os.path.exists(csv_path):\n",
    "        df.to_csv(csv_path, index=False, mode='w')\n",
    "    else:\n",
    "        df.to_csv(csv_path, mode='a', header=False, index=False)\n",
    "    \n",
    "    return True\n"
   ]
  },
  {
   "cell_type": "code",
   "execution_count": 7,
   "id": "c2036270-0ffe-49b5-a112-ae8628116387",
   "metadata": {},
   "outputs": [
    {
     "name": "stdout",
     "output_type": "stream",
     "text": [
      "Feature extraction completed.\n"
     ]
    }
   ],
   "source": [
    "genuine_folder = 'D:/Signature Verification/genuine_signatures'\n",
    "test_folder = 'D:/Signature Verification/test_signatures'\n",
    "train_csv = 'D:/Signature Verification/features.csv'\n",
    "\n",
    "# Extract features for genuine signatures\n",
    "genuine_exists = extract_and_save_features(genuine_folder, 1, train_csv)\n",
    "\n",
    "# Extract features for test signatures\n",
    "test_exists = extract_and_save_features(test_folder, 0, train_csv)\n",
    "\n",
    "# Ensure both folders were processed\n",
    "if not genuine_exists and not test_exists:\n",
    "    print(\"No 'genuine_signatures' or 'test_signatures' folder found.\")\n",
    "elif not genuine_exists:\n",
    "    print(\"No 'genuine_signatures' folder found.\")\n",
    "elif not test_exists:\n",
    "    print(\"No 'test_signatures' folder found.\")\n",
    "else:\n",
    "    print(\"Feature extraction completed.\")\n"
   ]
  },
  {
   "cell_type": "code",
   "execution_count": 9,
   "id": "45bca9b6-8662-4187-a068-56ab27314df9",
   "metadata": {},
   "outputs": [],
   "source": [
    "def train_model(csv_file):\n",
    "    if not os.path.exists(csv_file):\n",
    "        print(f\"No feature CSV file found at {csv_file}. Please extract features first.\")\n",
    "        return None\n",
    "    \n",
    "    df = pd.read_csv(csv_file)\n",
    "    X = df.iloc[:, :-1].values\n",
    "    y = df.iloc[:, -1].values\n",
    "    \n",
    "    X_train, X_test, y_train, y_test = train_test_split(X, y, test_size=0.2, random_state=42)\n",
    "    \n",
    "    clf = SVC(kernel='linear')\n",
    "    clf.fit(X_train, y_train)\n",
    "    \n",
    "    y_pred = clf.predict(X_test)\n",
    "    acc = accuracy_score(y_test, y_pred)\n",
    "    \n",
    "    print(f\"Model training completed with an accuracy of {acc * 100:.2f}%\")\n",
    "    return clf\n"
   ]
  },
  {
   "cell_type": "code",
   "execution_count": 11,
   "id": "b63f1b78-3c6c-4c34-9468-feb625739ee0",
   "metadata": {},
   "outputs": [
    {
     "name": "stdout",
     "output_type": "stream",
     "text": [
      "Model training completed with an accuracy of 100.00%\n"
     ]
    }
   ],
   "source": [
    "model = train_model(train_csv)\n"
   ]
  },
  {
   "cell_type": "code",
   "execution_count": 13,
   "id": "6f23d52a-b967-4437-a30e-e05a3042160f",
   "metadata": {},
   "outputs": [],
   "source": [
    "def compare_signature(image_path, model, csv_file):\n",
    "    if model is None:\n",
    "        print(\"No trained model found. Please train the model first.\")\n",
    "        return\n",
    "    \n",
    "    features = extract_features(image_path)\n",
    "    if features is None:\n",
    "        print(\"Unable to extract features from the image.\")\n",
    "        return\n",
    "    \n",
    "    features = np.array(features).reshape(1, -1)\n",
    "    prediction = model.predict(features)[0]\n",
    "    \n",
    "    if prediction == 1:\n",
    "        print(\"The signature is genuine.\")\n",
    "    else:\n",
    "        print(\"The signature is forged.\")\n"
   ]
  },
  {
   "cell_type": "code",
   "execution_count": null,
   "id": "35b9d59c-7334-4fb6-acbb-0e95f9c78a70",
   "metadata": {},
   "outputs": [],
   "source": [
    "def compare_signature(image_path, model, csv_file):\n",
    "    if model is None:\n",
    "        print(\"No trained model found. Please train the model first.\")\n",
    "        return\n",
    "    \n",
    "    features = extract_features(image_path)\n",
    "    if features is None:\n",
    "        print(\"Unable to extract features from the image.\")\n",
    "        return\n",
    "    \n",
    "    features = np.array(features).reshape(1, -1)\n",
    "    prediction = model.predict(features)[0]\n",
    "    \n",
    "    if prediction == 1:\n",
    "        print(\"The signature is genuine.\")\n",
    "    else:\n",
    "        print(\"The signature is forged.\")\n",
    "\n",
    "# Ask user to provide the path to the new signature image\n",
    "new_signature_path = input(\"Enter the path to the new signature image for comparison: \")\n",
    "\n",
    "# Remove any surrounding double quotes\n",
    "new_signature_path = new_signature_path.strip('\"')\n",
    "\n",
    "compare_signature(new_signature_path, model, train_csv)\n"
   ]
  },
  {
   "cell_type": "code",
   "execution_count": null,
   "id": "7b51a0ae-622d-402c-9467-677341311b7a",
   "metadata": {},
   "outputs": [],
   "source": []
  }
 ],
 "metadata": {
  "kernelspec": {
   "display_name": "Python 3 (ipykernel)",
   "language": "python",
   "name": "python3"
  },
  "language_info": {
   "codemirror_mode": {
    "name": "ipython",
    "version": 3
   },
   "file_extension": ".py",
   "mimetype": "text/x-python",
   "name": "python",
   "nbconvert_exporter": "python",
   "pygments_lexer": "ipython3",
   "version": "3.12.4"
  }
 },
 "nbformat": 4,
 "nbformat_minor": 5
}
